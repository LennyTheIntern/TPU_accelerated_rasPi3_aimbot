{
 "cells": [
  {
   "cell_type": "markdown",
   "metadata": {
    "colab_type": "text",
    "id": "view-in-github"
   },
   "source": [
    "<a href=\"https://colab.research.google.com/github/LennyTheIntern/valorant_tflite_model/blob/master/setup_raspi.ipynb\" target=\"_parent\"><img src=\"https://colab.research.google.com/assets/colab-badge.svg\" alt=\"Open In Colab\"/></a>"
   ]
  },
  {
   "cell_type": "markdown",
   "metadata": {
    "id": "JwEtF2BjiSYf"
   },
   "source": [
    "this code is at https://github.com/EdjeElectronics/TensorFlow-Lite-Object-Detection-on-Android-and-Raspberry-Pi/blob/master/Raspberry_Pi_Guide.md"
   ]
  },
  {
   "cell_type": "code",
   "execution_count": null,
   "metadata": {
    "id": "G3zTRIhZg9gO"
   },
   "outputs": [],
   "source": [
    "!git clone https://github.com/EdjeElectronics/TensorFlow-Lite-Object-Detection-on-Android-and-Raspberry-Pi.git\n",
    "!mv TensorFlow-Lite-Object-Detection-on-Android-and-Raspberry-Pi tflite1\n",
    "!cd tflite1\n",
    "!sudo pip3 install virtualenv\n",
    "!python3 -m venv tflite1-env"
   ]
  },
  {
   "cell_type": "markdown",
   "metadata": {
    "id": "9SJqUIlFisPx"
   },
   "source": [
    "Move Shoot enemy into tflite1 file"
   ]
  },
  {
   "cell_type": "code",
   "execution_count": null,
   "metadata": {
    "id": "SMPEYWKHijoi"
   },
   "outputs": [],
   "source": [
    "!cd ..\n",
    "\n",
    "!mv Shootenemy.py tflite1"
   ]
  },
  {
   "cell_type": "markdown",
   "metadata": {
    "id": "16ugGyB0kjIL"
   },
   "source": [
    "install all the prequisits for TPU"
   ]
  },
  {
   "cell_type": "code",
   "execution_count": null,
   "metadata": {
    "id": "MSG5BZC2kvE8"
   },
   "outputs": [],
   "source": [
    "!echo \"deb https://packages.cloud.google.com/apt coral-edgetpu-stable main\" | sudo tee /etc/apt/sources.list.d/coral-edgetpu.list\n",
    "!curl https://packages.cloud.google.com/apt/doc/apt-key.gpg | sudo apt-key add -\n",
    "!sudo apt-get update\n",
    "!sudo apt-get install libedgetpu1-std"
   ]
  }
 ],
 "metadata": {
  "colab": {
   "authorship_tag": "ABX9TyOsj0AikG1wPfSZkLFyvSKK",
   "include_colab_link": true,
   "name": "setup_raspi.ipynb",
   "provenance": []
  },
  "kernelspec": {
   "display_name": "Python 3",
   "language": "python",
   "name": "python3"
  },
  "language_info": {
   "codemirror_mode": {
    "name": "ipython",
    "version": 3
   },
   "file_extension": ".py",
   "mimetype": "text/x-python",
   "name": "python",
   "nbconvert_exporter": "python",
   "pygments_lexer": "ipython3",
   "version": "3.7.3"
  }
 },
 "nbformat": 4,
 "nbformat_minor": 1
}
