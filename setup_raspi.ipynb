{
  "nbformat": 4,
  "nbformat_minor": 0,
  "metadata": {
    "colab": {
      "name": "setup_raspi.ipynb",
      "provenance": [],
      "authorship_tag": "ABX9TyOsj0AikG1wPfSZkLFyvSKK",
      "include_colab_link": true
    },
    "kernelspec": {
      "name": "python3",
      "display_name": "Python 3"
    },
    "language_info": {
      "name": "python"
    }
  },
  "cells": [
    {
      "cell_type": "markdown",
      "metadata": {
        "id": "view-in-github",
        "colab_type": "text"
      },
      "source": [
        "<a href=\"https://colab.research.google.com/github/LennyTheIntern/valorant_tflite_model/blob/master/setup_raspi.ipynb\" target=\"_parent\"><img src=\"https://colab.research.google.com/assets/colab-badge.svg\" alt=\"Open In Colab\"/></a>"
      ]
    },
    {
      "cell_type": "markdown",
      "metadata": {
        "id": "JwEtF2BjiSYf"
      },
      "source": [
        "this code is at https://github.com/EdjeElectronics/TensorFlow-Lite-Object-Detection-on-Android-and-Raspberry-Pi/blob/master/Raspberry_Pi_Guide.md"
      ]
    },
    {
      "cell_type": "code",
      "metadata": {
        "id": "G3zTRIhZg9gO"
      },
      "source": [
        "!git clone https://github.com/EdjeElectronics/TensorFlow-Lite-Object-Detection-on-Android-and-Raspberry-Pi.git\n",
        "!mv TensorFlow-Lite-Object-Detection-on-Android-and-Raspberry-Pi tflite1\n",
        "!cd tflite1\n",
        "!sudo pip3 install virtualenv\n",
        "!python3 -m venv tflite1-env"
      ],
      "execution_count": null,
      "outputs": []
    },
    {
      "cell_type": "markdown",
      "metadata": {
        "id": "9SJqUIlFisPx"
      },
      "source": [
        "Move Shoot enemy into tflite1 file"
      ]
    },
    {
      "cell_type": "code",
      "metadata": {
        "id": "SMPEYWKHijoi"
      },
      "source": [
        "!cd ..\n",
        "\n",
        "!mv Shootenemy.py tflite1"
      ],
      "execution_count": null,
      "outputs": []
    },
    {
      "cell_type": "markdown",
      "metadata": {
        "id": "16ugGyB0kjIL"
      },
      "source": [
        "install all the prequisits for TPU"
      ]
    },
    {
      "cell_type": "code",
      "metadata": {
        "id": "MSG5BZC2kvE8"
      },
      "source": [
        "!echo \"deb https://packages.cloud.google.com/apt coral-edgetpu-stable main\" | sudo tee /etc/apt/sources.list.d/coral-edgetpu.list\n",
        "!curl https://packages.cloud.google.com/apt/doc/apt-key.gpg | sudo apt-key add -\n",
        "!sudo apt-get update\n",
        "!sudo apt-get install libedgetpu1-std"
      ],
      "execution_count": null,
      "outputs": []
    }
  ]
}